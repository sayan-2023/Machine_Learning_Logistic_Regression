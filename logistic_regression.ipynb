{
 "cells": [
  {
   "cell_type": "code",
   "execution_count": 35,
   "id": "b2193265",
   "metadata": {},
   "outputs": [],
   "source": [
    "import pandas as pd\n",
    "from matplotlib import pyplot as plt\n"
   ]
  },
  {
   "cell_type": "code",
   "execution_count": 36,
   "id": "485c6582",
   "metadata": {},
   "outputs": [
    {
     "data": {
      "text/html": [
       "<div>\n",
       "<style scoped>\n",
       "    .dataframe tbody tr th:only-of-type {\n",
       "        vertical-align: middle;\n",
       "    }\n",
       "\n",
       "    .dataframe tbody tr th {\n",
       "        vertical-align: top;\n",
       "    }\n",
       "\n",
       "    .dataframe thead th {\n",
       "        text-align: right;\n",
       "    }\n",
       "</style>\n",
       "<table border=\"1\" class=\"dataframe\">\n",
       "  <thead>\n",
       "    <tr style=\"text-align: right;\">\n",
       "      <th></th>\n",
       "      <th>age</th>\n",
       "      <th>insurance</th>\n",
       "    </tr>\n",
       "  </thead>\n",
       "  <tbody>\n",
       "    <tr>\n",
       "      <th>0</th>\n",
       "      <td>22</td>\n",
       "      <td>0</td>\n",
       "    </tr>\n",
       "    <tr>\n",
       "      <th>1</th>\n",
       "      <td>25</td>\n",
       "      <td>0</td>\n",
       "    </tr>\n",
       "    <tr>\n",
       "      <th>2</th>\n",
       "      <td>47</td>\n",
       "      <td>1</td>\n",
       "    </tr>\n",
       "    <tr>\n",
       "      <th>3</th>\n",
       "      <td>52</td>\n",
       "      <td>0</td>\n",
       "    </tr>\n",
       "    <tr>\n",
       "      <th>4</th>\n",
       "      <td>46</td>\n",
       "      <td>1</td>\n",
       "    </tr>\n",
       "    <tr>\n",
       "      <th>...</th>\n",
       "      <td>...</td>\n",
       "      <td>...</td>\n",
       "    </tr>\n",
       "    <tr>\n",
       "      <th>495</th>\n",
       "      <td>26</td>\n",
       "      <td>0</td>\n",
       "    </tr>\n",
       "    <tr>\n",
       "      <th>496</th>\n",
       "      <td>58</td>\n",
       "      <td>0</td>\n",
       "    </tr>\n",
       "    <tr>\n",
       "      <th>497</th>\n",
       "      <td>40</td>\n",
       "      <td>0</td>\n",
       "    </tr>\n",
       "    <tr>\n",
       "      <th>498</th>\n",
       "      <td>49</td>\n",
       "      <td>1</td>\n",
       "    </tr>\n",
       "    <tr>\n",
       "      <th>499</th>\n",
       "      <td>33</td>\n",
       "      <td>0</td>\n",
       "    </tr>\n",
       "  </tbody>\n",
       "</table>\n",
       "<p>500 rows × 2 columns</p>\n",
       "</div>"
      ],
      "text/plain": [
       "     age  insurance\n",
       "0     22          0\n",
       "1     25          0\n",
       "2     47          1\n",
       "3     52          0\n",
       "4     46          1\n",
       "..   ...        ...\n",
       "495   26          0\n",
       "496   58          0\n",
       "497   40          0\n",
       "498   49          1\n",
       "499   33          0\n",
       "\n",
       "[500 rows x 2 columns]"
      ]
     },
     "execution_count": 36,
     "metadata": {},
     "output_type": "execute_result"
    }
   ],
   "source": [
    "df = pd.read_csv(\"insurance_data.csv\")\n",
    "df.drop('affordability',axis='columns')\n"
   ]
  },
  {
   "cell_type": "code",
   "execution_count": 37,
   "id": "1f1a581c",
   "metadata": {},
   "outputs": [
    {
     "data": {
      "text/plain": [
       "<matplotlib.collections.PathCollection at 0x164f84c9ac0>"
      ]
     },
     "execution_count": 37,
     "metadata": {},
     "output_type": "execute_result"
    },
    {
     "data": {
      "image/png": "[encoded data removed]",
      "text/plain": [
       "<Figure size 432x288 with 1 Axes>"
      ]
     },
     "metadata": {
      "needs_background": "light"
     },
     "output_type": "display_data"
    }
   ],
   "source": [
    "plt.scatter(df.age,df.insurance,marker='+',color='red')"
   ]
  },
  {
   "cell_type": "code",
   "execution_count": 38,
   "id": "a1dabd16",
   "metadata": {},
   "outputs": [],
   "source": [
    "from sklearn.model_selection import train_test_split\n",
    "X_train, X_test, y_train, y_test = train_test_split(df[['age']],df.insurance,train_size=0.8)\n"
   ]
  },
  {
   "cell_type": "code",
   "execution_count": 39,
   "id": "30e99459",
   "metadata": {},
   "outputs": [
    {
     "data": {
      "text/html": [
       "<div>\n",
       "<style scoped>\n",
       "    .dataframe tbody tr th:only-of-type {\n",
       "        vertical-align: middle;\n",
       "    }\n",
       "\n",
       "    .dataframe tbody tr th {\n",
       "        vertical-align: top;\n",
       "    }\n",
       "\n",
       "    .dataframe thead th {\n",
       "        text-align: right;\n",
       "    }\n",
       "</style>\n",
       "<table border=\"1\" class=\"dataframe\">\n",
       "  <thead>\n",
       "    <tr style=\"text-align: right;\">\n",
       "      <th></th>\n",
       "      <th>age</th>\n",
       "    </tr>\n",
       "  </thead>\n",
       "  <tbody>\n",
       "    <tr>\n",
       "      <th>301</th>\n",
       "      <td>18</td>\n",
       "    </tr>\n",
       "    <tr>\n",
       "      <th>57</th>\n",
       "      <td>52</td>\n",
       "    </tr>\n",
       "    <tr>\n",
       "      <th>485</th>\n",
       "      <td>32</td>\n",
       "    </tr>\n",
       "    <tr>\n",
       "      <th>112</th>\n",
       "      <td>59</td>\n",
       "    </tr>\n",
       "    <tr>\n",
       "      <th>319</th>\n",
       "      <td>64</td>\n",
       "    </tr>\n",
       "    <tr>\n",
       "      <th>...</th>\n",
       "      <td>...</td>\n",
       "    </tr>\n",
       "    <tr>\n",
       "      <th>219</th>\n",
       "      <td>38</td>\n",
       "    </tr>\n",
       "    <tr>\n",
       "      <th>407</th>\n",
       "      <td>65</td>\n",
       "    </tr>\n",
       "    <tr>\n",
       "      <th>147</th>\n",
       "      <td>27</td>\n",
       "    </tr>\n",
       "    <tr>\n",
       "      <th>44</th>\n",
       "      <td>34</td>\n",
       "    </tr>\n",
       "    <tr>\n",
       "      <th>431</th>\n",
       "      <td>65</td>\n",
       "    </tr>\n",
       "  </tbody>\n",
       "</table>\n",
       "<p>100 rows × 1 columns</p>\n",
       "</div>"
      ],
      "text/plain": [
       "     age\n",
       "301   18\n",
       "57    52\n",
       "485   32\n",
       "112   59\n",
       "319   64\n",
       "..   ...\n",
       "219   38\n",
       "407   65\n",
       "147   27\n",
       "44    34\n",
       "431   65\n",
       "\n",
       "[100 rows x 1 columns]"
      ]
     },
     "execution_count": 39,
     "metadata": {},
     "output_type": "execute_result"
    }
   ],
   "source": [
    "X_test\n"
   ]
  },
  {
   "cell_type": "code",
   "execution_count": 40,
   "id": "f97c6a52",
   "metadata": {},
   "outputs": [],
   "source": [
    "from sklearn.linear_model import LogisticRegression\n",
    "model = LogisticRegression()\n"
   ]
  },
  {
   "cell_type": "code",
   "execution_count": 41,
   "id": "7f8fcd84",
   "metadata": {},
   "outputs": [
    {
     "data": {
      "text/plain": [
       "LogisticRegression()"
      ]
     },
     "execution_count": 41,
     "metadata": {},
     "output_type": "execute_result"
    }
   ],
   "source": [
    "model.fit(X_train, y_train)"
   ]
  },
  {
   "cell_type": "code",
   "execution_count": 42,
   "id": "6c56f706",
   "metadata": {},
   "outputs": [
    {
     "data": {
      "text/html": [
       "<div>\n",
       "<style scoped>\n",
       "    .dataframe tbody tr th:only-of-type {\n",
       "        vertical-align: middle;\n",
       "    }\n",
       "\n",
       "    .dataframe tbody tr th {\n",
       "        vertical-align: top;\n",
       "    }\n",
       "\n",
       "    .dataframe thead th {\n",
       "        text-align: right;\n",
       "    }\n",
       "</style>\n",
       "<table border=\"1\" class=\"dataframe\">\n",
       "  <thead>\n",
       "    <tr style=\"text-align: right;\">\n",
       "      <th></th>\n",
       "      <th>age</th>\n",
       "    </tr>\n",
       "  </thead>\n",
       "  <tbody>\n",
       "    <tr>\n",
       "      <th>301</th>\n",
       "      <td>18</td>\n",
       "    </tr>\n",
       "    <tr>\n",
       "      <th>57</th>\n",
       "      <td>52</td>\n",
       "    </tr>\n",
       "    <tr>\n",
       "      <th>485</th>\n",
       "      <td>32</td>\n",
       "    </tr>\n",
       "    <tr>\n",
       "      <th>112</th>\n",
       "      <td>59</td>\n",
       "    </tr>\n",
       "    <tr>\n",
       "      <th>319</th>\n",
       "      <td>64</td>\n",
       "    </tr>\n",
       "    <tr>\n",
       "      <th>...</th>\n",
       "      <td>...</td>\n",
       "    </tr>\n",
       "    <tr>\n",
       "      <th>219</th>\n",
       "      <td>38</td>\n",
       "    </tr>\n",
       "    <tr>\n",
       "      <th>407</th>\n",
       "      <td>65</td>\n",
       "    </tr>\n",
       "    <tr>\n",
       "      <th>147</th>\n",
       "      <td>27</td>\n",
       "    </tr>\n",
       "    <tr>\n",
       "      <th>44</th>\n",
       "      <td>34</td>\n",
       "    </tr>\n",
       "    <tr>\n",
       "      <th>431</th>\n",
       "      <td>65</td>\n",
       "    </tr>\n",
       "  </tbody>\n",
       "</table>\n",
       "<p>100 rows × 1 columns</p>\n",
       "</div>"
      ],
      "text/plain": [
       "     age\n",
       "301   18\n",
       "57    52\n",
       "485   32\n",
       "112   59\n",
       "319   64\n",
       "..   ...\n",
       "219   38\n",
       "407   65\n",
       "147   27\n",
       "44    34\n",
       "431   65\n",
       "\n",
       "[100 rows x 1 columns]"
      ]
     },
     "execution_count": 42,
     "metadata": {},
     "output_type": "execute_result"
    }
   ],
   "source": [
    "X_test"
   ]
  },
  {
   "cell_type": "code",
   "execution_count": 46,
   "id": "00778c8d",
   "metadata": {},
   "outputs": [
    {
     "data": {
      "text/plain": [
       "array([[0.54232787, 0.45767213],\n",
       "       [0.4639796 , 0.5360204 ],\n",
       "       [0.51009944, 0.48990056],\n",
       "       [0.44794212, 0.55205788],\n",
       "       [0.43655076, 0.56344924],\n",
       "       [0.48470454, 0.51529546],\n",
       "       [0.4525147 , 0.5474853 ],\n",
       "       [0.43882407, 0.56117593],\n",
       "       [0.49162811, 0.50837189],\n",
       "       [0.52624099, 0.47375901],\n",
       "       [0.52624099, 0.47375901],\n",
       "       [0.49624577, 0.50375423],\n",
       "       [0.50548222, 0.49451778],\n",
       "       [0.50317321, 0.49682679],\n",
       "       [0.49162811, 0.50837189],\n",
       "       [0.4570953 , 0.5429047 ],\n",
       "       [0.46627755, 0.53372245],\n",
       "       [0.44337833, 0.55662167],\n",
       "       [0.44565908, 0.55434092],\n",
       "       [0.50548222, 0.49451778],\n",
       "       [0.51702179, 0.48297821],\n",
       "       [0.52624099, 0.47375901],\n",
       "       [0.53314401, 0.46685599],\n",
       "       [0.49624577, 0.50375423],\n",
       "       [0.48009192, 0.51990808],\n",
       "       [0.4525147 , 0.5474853 ],\n",
       "       [0.4731796 , 0.5268204 ],\n",
       "       [0.45022736, 0.54977264],\n",
       "       [0.54232787, 0.45767213],\n",
       "       [0.51702179, 0.48297821],\n",
       "       [0.45022736, 0.54977264],\n",
       "       [0.507791  , 0.492209  ],\n",
       "       [0.4525147 , 0.5474853 ],\n",
       "       [0.49162811, 0.50837189],\n",
       "       [0.4731796 , 0.5268204 ],\n",
       "       [0.54003436, 0.45996564],\n",
       "       [0.48470454, 0.51529546],\n",
       "       [0.48931976, 0.51068024],\n",
       "       [0.51240745, 0.48759255],\n",
       "       [0.54232787, 0.45767213],\n",
       "       [0.48470454, 0.51529546],\n",
       "       [0.51009944, 0.48990056],\n",
       "       [0.44337833, 0.55662167],\n",
       "       [0.52163323, 0.47836677],\n",
       "       [0.44794212, 0.55205788],\n",
       "       [0.48239786, 0.51760214],\n",
       "       [0.52393762, 0.47606238],\n",
       "       [0.51240745, 0.48759255],\n",
       "       [0.4570953 , 0.5429047 ],\n",
       "       [0.47087765, 0.52912235],\n",
       "       [0.44109996, 0.55890004],\n",
       "       [0.50548222, 0.49451778],\n",
       "       [0.52393762, 0.47606238],\n",
       "       [0.50086407, 0.49913593],\n",
       "       [0.44565908, 0.55434092],\n",
       "       [0.51702179, 0.48297821],\n",
       "       [0.49393681, 0.50606319],\n",
       "       [0.51932793, 0.48067207],\n",
       "       [0.53084428, 0.46915572],\n",
       "       [0.54003436, 0.45996564],\n",
       "       [0.53773914, 0.46226086],\n",
       "       [0.4731796 , 0.5268204 ],\n",
       "       [0.47087765, 0.52912235],\n",
       "       [0.49855489, 0.50144511],\n",
       "       [0.51009944, 0.48990056],\n",
       "       [0.4639796 , 0.5360204 ],\n",
       "       [0.49855489, 0.50144511],\n",
       "       [0.51702179, 0.48297821],\n",
       "       [0.48701187, 0.51298813],\n",
       "       [0.51471494, 0.48528506],\n",
       "       [0.51702179, 0.48297821],\n",
       "       [0.507791  , 0.492209  ],\n",
       "       [0.4570953 , 0.5429047 ],\n",
       "       [0.4754827 , 0.5245173 ],\n",
       "       [0.48009192, 0.51990808],\n",
       "       [0.46627755, 0.53372245],\n",
       "       [0.44794212, 0.55205788],\n",
       "       [0.48470454, 0.51529546],\n",
       "       [0.4731796 , 0.5268204 ],\n",
       "       [0.4639796 , 0.5360204 ],\n",
       "       [0.53084428, 0.46915572],\n",
       "       [0.52163323, 0.47836677],\n",
       "       [0.46857693, 0.53142307],\n",
       "       [0.54003436, 0.45996564],\n",
       "       [0.53773914, 0.46226086],\n",
       "       [0.53544233, 0.46455767],\n",
       "       [0.50317321, 0.49682679],\n",
       "       [0.48470454, 0.51529546],\n",
       "       [0.52163323, 0.47836677],\n",
       "       [0.4525147 , 0.5474853 ],\n",
       "       [0.43655076, 0.56344924],\n",
       "       [0.45480404, 0.54519596],\n",
       "       [0.53314401, 0.46685599],\n",
       "       [0.46168317, 0.53831683],\n",
       "       [0.53314401, 0.46685599],\n",
       "       [0.49624577, 0.50375423],\n",
       "       [0.4342801 , 0.5657199 ],\n",
       "       [0.52163323, 0.47836677],\n",
       "       [0.50548222, 0.49451778],\n",
       "       [0.4342801 , 0.5657199 ]])"
      ]
     },
     "execution_count": 46,
     "metadata": {},
     "output_type": "execute_result"
    }
   ],
   "source": [
    "y_predicted = model.predict(X_test)\n",
    "model.predict_proba(X_test)"
   ]
  },
  {
   "cell_type": "code",
   "execution_count": 44,
   "id": "30d54afc",
   "metadata": {},
   "outputs": [
    {
     "data": {
      "text/plain": [
       "0.58"
      ]
     },
     "execution_count": 44,
     "metadata": {},
     "output_type": "execute_result"
    }
   ],
   "source": [
    "model.score(X_test,y_test)"
   ]
  },
  {
   "cell_type": "code",
   "execution_count": 33,
   "id": "5f6fe2f0",
   "metadata": {},
   "outputs": [
    {
     "data": {
      "text/plain": [
       "0.4850044983805899"
      ]
     },
     "execution_count": 33,
     "metadata": {},
     "output_type": "execute_result"
    }
   ],
   "source": [
    "#Lets defined sigmoid function now and do the math with hand\n",
    "\n",
    "\n",
    "import math\n",
    "def sigmoid(x):\n",
    "  return 1 / (1 + math.exp(-x))\n",
    "def prediction_function(age):\n",
    "    z = 0.042 * age - 1.53 # 0.04150133 ~ 0.042 and -1.52726963 ~ -1.53\n",
    "    y = sigmoid(z)\n",
    "    return y\n",
    "age = 35\n",
    "prediction_function(age)"
   ]
  },
  {
   "cell_type": "code",
   "execution_count": 32,
   "id": "3afad134",
   "metadata": {},
   "outputs": [
    {
     "data": {
      "text/plain": [
       "array([1, 1, 1, 1, 1, 1, 1, 0, 1, 1, 0, 1, 1, 1, 1, 1, 1, 1, 0, 1, 0, 0,\n",
       "       1, 1, 1, 1, 1, 1, 1, 1, 0, 0, 1, 1, 1, 0, 0, 1, 1, 1, 1, 1, 1, 1,\n",
       "       1, 0, 1, 1, 1, 1, 1, 1, 1, 1, 0, 1, 1, 1, 1, 1, 1, 1, 1, 1, 0, 1,\n",
       "       1, 1, 1, 0, 1, 0, 1, 0, 0, 1, 1, 1, 1, 1, 1, 1, 1, 1, 0, 1, 1, 1,\n",
       "       1, 1, 1, 0, 1, 1, 1, 0, 0, 1, 0, 1], dtype=int64)"
      ]
     },
     "execution_count": 32,
     "metadata": {},
     "output_type": "execute_result"
    }
   ],
   "source": [
    "y_predicted"
   ]
  },
  {
   "cell_type": "code",
   "execution_count": 34,
   "id": "d29015a8",
   "metadata": {},
   "outputs": [
    {
     "data": {
      "text/plain": [
       "0.568565299077705"
      ]
     },
     "execution_count": 34,
     "metadata": {},
     "output_type": "execute_result"
    }
   ],
   "source": [
    "age = 43\n",
    "prediction_function(age)"
   ]
  }
 ],
 "metadata": {
  "kernelspec": {
   "display_name": "Python 3 (ipykernel)",
   "language": "python",
   "name": "python3"
  },
  "language_info": {
   "codemirror_mode": {
    "name": "ipython",
    "version": 3
   },
   "file_extension": ".py",
   "mimetype": "text/x-python",
   "name": "python",
   "nbconvert_exporter": "python",
   "pygments_lexer": "ipython3",
   "version": "3.9.7"
  }
 },
 "nbformat": 4,
 "nbformat_minor": 5
}
